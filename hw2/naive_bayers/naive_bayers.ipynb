{
 "cells": [
  {
   "cell_type": "code",
   "execution_count": 17,
   "metadata": {
    "collapsed": true
   },
   "outputs": [],
   "source": [
    "import numpy as np\n",
    "import math"
   ]
  },
  {
   "cell_type": "code",
   "execution_count": 2,
   "metadata": {
    "collapsed": false
   },
   "outputs": [],
   "source": [
    "Xtrain_file = '../data/Xtrain.csv'\n",
    "Ytrain_file = '../data/Ytrain.csv'\n",
    "\n",
    "# load training files \n",
    "X_train = np.genfromtxt(Xtrain_file, delimiter=',').astype(int)\n",
    "Y_train = np.genfromtxt(Ytrain_file, delimiter=',').astype(int)"
   ]
  },
  {
   "cell_type": "code",
   "execution_count": 3,
   "metadata": {
    "collapsed": false
   },
   "outputs": [],
   "source": [
    "# create 90-10 split for testing\n",
    "X_test = X_train[-50:]\n",
    "Y_test = Y_train[-50:]\n",
    "\n",
    "X_train = X_train[:450]\n",
    "Y_train = Y_train[:450]"
   ]
  },
  {
   "cell_type": "code",
   "execution_count": 4,
   "metadata": {
    "collapsed": false
   },
   "outputs": [
    {
     "data": {
      "text/plain": [
       "41567"
      ]
     },
     "execution_count": 4,
     "metadata": {},
     "output_type": "execute_result"
    }
   ],
   "source": [
    "len(X_train[100])"
   ]
  },
  {
   "cell_type": "code",
   "execution_count": 28,
   "metadata": {
    "collapsed": false
   },
   "outputs": [],
   "source": [
    "# train set size\n",
    "train_size = len(Y_train)\n",
    "\n",
    "# number of instances per class\n",
    "class_0, class_1 = np.bincount(Y_train)\n",
    "\n",
    "class_0_prior = class_0 / train_size\n",
    "class_1_prior = class_1 / train_size\n",
    "\n",
    "# total tokens in each class (scalar)\n",
    "class_0_wtot = 0 \n",
    "class_1_wtot = 0\n",
    "\n",
    "\n",
    "# total per token in each class (vector)\n",
    "class_0_vectot = np.zeros(len(X_train[0]), dtype=np.int)\n",
    "class_1_vectot = np.zeros(len(X_train[0]), dtype=np.int)\n",
    "\n",
    "# sum of the total tokens\n",
    "for x, y in zip(X_train, Y_train):        \n",
    "    if y == 0:\n",
    "        class_0_wtot += np.sum(x)\n",
    "        class_0_vectot += x\n",
    "    else: \n",
    "        class_1_wtot += np.sum(x)\n",
    "        class_1_vectot += x\n",
    "        \n",
    "class_vectot = class_1_vectot + class_0_vectot"
   ]
  },
  {
   "cell_type": "code",
   "execution_count": 54,
   "metadata": {
    "collapsed": false
   },
   "outputs": [
    {
     "name": "stdout",
     "output_type": "stream",
     "text": [
      "2855.218844318519\n",
      "35372.53062801568\n",
      "0\n",
      "\n",
      "\n",
      "5619.815935787214\n",
      "70655.47395356552\n",
      "0\n",
      "\n",
      "\n",
      "8532.974695720679\n",
      "106086.97894759972\n",
      "1\n",
      "\n",
      "\n",
      "11595.673246259339\n",
      "141668.02373214433\n",
      "0\n",
      "\n",
      "\n",
      "14601.314544603534\n",
      "177192.01126435338\n",
      "0\n",
      "\n",
      "\n",
      "17632.158972982495\n",
      "212741.2019265738\n",
      "0\n",
      "\n",
      "\n",
      "20491.905076440078\n",
      "248119.29426385998\n",
      "0\n",
      "\n",
      "\n",
      "23426.24628676455\n",
      "283571.98170819506\n",
      "1\n",
      "\n",
      "\n",
      "26344.81668410067\n",
      "319008.8983393701\n",
      "0\n",
      "\n",
      "\n",
      "29254.497311265135\n",
      "354436.92520037235\n",
      "0\n",
      "\n",
      "\n",
      "32198.802471137245\n",
      "389899.57659407187\n",
      "1\n",
      "\n",
      "\n",
      "35395.41161493904\n",
      "425614.5319716957\n",
      "0\n",
      "\n",
      "\n",
      "38167.888153678294\n",
      "460905.35474425554\n",
      "1\n",
      "\n",
      "\n",
      "41197.85308653816\n",
      "496453.6659109367\n",
      "0\n",
      "\n",
      "\n",
      "44165.03385880671\n",
      "531939.192917027\n",
      "0\n",
      "\n",
      "\n",
      "47501.84921231295\n",
      "567794.354504508\n",
      "0\n",
      "\n",
      "\n",
      "50568.26305481541\n",
      "603379.1145809812\n",
      "0\n",
      "\n",
      "\n",
      "53510.28413982473\n",
      "638839.4818999635\n",
      "1\n",
      "\n",
      "\n",
      "56555.171418933925\n",
      "674402.7154130451\n",
      "0\n",
      "\n",
      "\n",
      "59366.45484580926\n",
      "709732.3450738908\n",
      "0\n",
      "\n",
      "\n",
      "62631.29956526775\n",
      "745515.5360273224\n",
      "0\n",
      "\n",
      "\n",
      "65450.86767574995\n",
      "780853.4503719116\n",
      "0\n",
      "\n",
      "\n",
      "68263.82459793819\n",
      "816184.7535283059\n",
      "0\n",
      "\n",
      "\n",
      "71598.18051431772\n",
      "852037.4556788951\n",
      "0\n",
      "\n",
      "\n",
      "74397.19008475792\n",
      "887354.8114835408\n",
      "0\n",
      "\n",
      "\n",
      "77275.11422529831\n",
      "922751.0818582854\n",
      "0\n",
      "\n",
      "\n",
      "80203.29807128421\n",
      "958197.6119384788\n",
      "1\n",
      "\n",
      "\n",
      "83783.61704574099\n",
      "994296.2771471423\n",
      "0\n",
      "\n",
      "\n",
      "86699.58987633283\n",
      "1029730.5962119389\n",
      "0\n",
      "\n",
      "\n",
      "89487.7305452323\n",
      "1065037.0831141402\n",
      "0\n",
      "\n",
      "\n",
      "92438.30019103557\n",
      "1100505.9989939223\n",
      "0\n",
      "\n",
      "\n",
      "95524.69125819419\n",
      "1136110.7362950582\n",
      "0\n",
      "\n",
      "\n",
      "98357.93857547877\n",
      "1171462.3298463232\n",
      "0\n",
      "\n",
      "\n",
      "101312.65242541533\n",
      "1206935.389930237\n",
      "0\n",
      "\n",
      "\n",
      "104965.90879942612\n",
      "1243106.9925382077\n",
      "0\n",
      "\n",
      "\n",
      "108026.75883747598\n",
      "1278686.1888102342\n",
      "0\n",
      "\n",
      "\n",
      "110826.25503275049\n",
      "1314004.03123949\n",
      "0\n",
      "\n",
      "\n",
      "113727.18727801112\n",
      "1349423.3097187283\n",
      "1\n",
      "\n",
      "\n",
      "116570.15206458532\n",
      "1384784.6207392819\n",
      "0\n",
      "\n",
      "\n",
      "119489.89043179888\n",
      "1420222.7053404697\n",
      "0\n",
      "\n",
      "\n",
      "122407.8580034112\n",
      "1455659.0191460645\n",
      "1\n",
      "\n",
      "\n",
      "125004.68366069568\n",
      "1490774.1910373326\n",
      "0\n",
      "\n",
      "\n",
      "127881.01502057665\n",
      "1526168.868631196\n",
      "1\n",
      "\n",
      "\n",
      "130890.10154050066\n",
      "1561696.301385029\n",
      "0\n",
      "\n",
      "\n",
      "133797.12207531204\n",
      "1597121.6681537316\n",
      "0\n",
      "\n",
      "\n",
      "136913.43852827072\n",
      "1632756.3308405783\n",
      "0\n",
      "\n",
      "\n",
      "139835.76212032267\n",
      "1668197.000666528\n",
      "1\n",
      "\n",
      "\n",
      "142702.64990294515\n",
      "1703582.234683045\n",
      "1\n",
      "\n",
      "\n",
      "145545.65849882347\n",
      "1738943.5895128185\n",
      "0\n",
      "\n",
      "\n",
      "148405.48523084813\n",
      "1774321.762478736\n",
      "0\n",
      "\n",
      "\n"
     ]
    }
   ],
   "source": [
    "# prediction\n",
    "log_prob_0 = 0.0\n",
    "log_prob_1 = 0.0\n",
    "for idx1, x in enumerate(X_test):\n",
    "    for idx, val in enumerate(x):\n",
    "\n",
    "        p_word = float(class_vectot[idx] + 1) / (class_0_wtot + class_1_wtot + 1)\n",
    "\n",
    "        p_w_given_0 = float(class_0_vectot[idx] + 1) / float(class_0_wtot  + 1)\n",
    "        p_w_given_1 = float(class_1_vectot[idx] + 1) / float(class_1_wtot + 1)\n",
    "\n",
    "    #     print(math.log(p_w_given_0))\n",
    "        if p_w_given_0 > 0:\n",
    "            log_prob_0 += math.log((val+1) * p_w_given_0 / p_word)\n",
    "\n",
    "        if p_w_given_1 > 0:\n",
    "            log_prob_1 += math.log((val+1) * p_w_given_1 / p_word)\n",
    "\n",
    "    score_0 = log_prob_0 + math.log(class_0_prior)\n",
    "    score_1 = log_prob_1 + math.log(class_1_prior)\n",
    "    print(score_0)\n",
    "    print(score_1)\n",
    "    print(Y_test[idx1])\n",
    "    print(\"\\n\")"
   ]
  },
  {
   "cell_type": "code",
   "execution_count": 51,
   "metadata": {
    "collapsed": false
   },
   "outputs": [
    {
     "name": "stdout",
     "output_type": "stream",
     "text": [
      "3116.012340456924\n",
      "35633.324124154235\n",
      "0\n"
     ]
    }
   ],
   "source": [
    "print(score_0)\n",
    "print(score_1)\n",
    "print(Y_test[11])"
   ]
  },
  {
   "cell_type": "code",
   "execution_count": 6,
   "metadata": {
    "collapsed": false
   },
   "outputs": [],
   "source": [
    "# prediction\n",
    "log_prob_0 = 0.0\n",
    "log_prob_1 = 0.0\n",
    "for x in X_test[0]:\n",
    "#     if x > 0:\n",
    "    log_prob_0 += math.log((x+1) / (class_0_wtot + 1))\n",
    "    log_prob_1 += math.log((x+1) / (class_1_wtot+1))\n",
    "\n",
    "score_0 = log_prob_0 + math.log(class_0_prior)\n",
    "score_1 = log_prob_1 + math.log(class_1_prior)"
   ]
  },
  {
   "cell_type": "code",
   "execution_count": 7,
   "metadata": {
    "collapsed": false
   },
   "outputs": [
    {
     "name": "stdout",
     "output_type": "stream",
     "text": [
      "-517435.3029450076\n",
      "-467449.5939140707\n"
     ]
    }
   ],
   "source": [
    "print(score_0)\n",
    "print(score_1)"
   ]
  },
  {
   "cell_type": "code",
   "execution_count": 40,
   "metadata": {
    "collapsed": false
   },
   "outputs": [
    {
     "data": {
      "text/plain": [
       "0"
      ]
     },
     "execution_count": 40,
     "metadata": {},
     "output_type": "execute_result"
    }
   ],
   "source": [
    "Y_test[3]"
   ]
  },
  {
   "cell_type": "code",
   "execution_count": null,
   "metadata": {
    "collapsed": true
   },
   "outputs": [],
   "source": []
  }
 ],
 "metadata": {
  "anaconda-cloud": {},
  "kernelspec": {
   "display_name": "Python [conda root]",
   "language": "python",
   "name": "conda-root-py"
  },
  "language_info": {
   "codemirror_mode": {
    "name": "ipython",
    "version": 3
   },
   "file_extension": ".py",
   "mimetype": "text/x-python",
   "name": "python",
   "nbconvert_exporter": "python",
   "pygments_lexer": "ipython3",
   "version": "3.5.2"
  }
 },
 "nbformat": 4,
 "nbformat_minor": 2
}
